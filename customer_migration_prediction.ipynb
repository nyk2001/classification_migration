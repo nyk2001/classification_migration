{
 "cells": [
  {
   "cell_type": "markdown",
   "metadata": {},
   "source": [
    "#### Data Read"
   ]
  },
  {
   "cell_type": "code",
   "execution_count": 1,
   "metadata": {},
   "outputs": [
    {
     "name": "stdout",
     "output_type": "stream",
     "text": [
      "Total rows in the file - 1473\n",
      "   CitizenSN Migration  Gender Age  Salary  Travel_Habits  \\\n",
      "0     100001       Yes  Female  41    1102  Travel-Seldom   \n",
      "1     100002        No    Male  49     279   Travel-Often   \n",
      "2     100004       Yes    Male  37    1373  Travel-Seldom   \n",
      "3     100005        No  Female  33    1392   Travel-Often   \n",
      "4     100007        No    Male  27     591  Travel-Seldom   \n",
      "\n",
      "                 Job_Type  Commute_Factor  Education EducationArea  ...  \\\n",
      "0                   Sales               1          2       Science  ...   \n",
      "1  Research & Development               8          1       Science  ...   \n",
      "2  Research & Development               2          2         Other  ...   \n",
      "3  Research & Development               3          4       Science  ...   \n",
      "4  Research & Development               2          1       Medical  ...   \n",
      "\n",
      "   Work_Life_Balance  Years_Without_Major_Change  Years_Without_Minor_Change  \\\n",
      "0                  1                           6                           4   \n",
      "1                  3                          10                           7   \n",
      "2                  3                           0                           0   \n",
      "3                  3                           8                           7   \n",
      "4                  3                           2                           2   \n",
      "\n",
      "   Years_Since_Last_Target_Achievement  Years_in_Same_Group  \\\n",
      "0                                    0                    5   \n",
      "1                                    1                    7   \n",
      "2                                    0                    0   \n",
      "3                                    3                    0   \n",
      "4                                    2                    2   \n",
      "\n",
      "  RelationshipAssessment  TypicalHours StockmarketParticipation  \\\n",
      "0                      1            80                        0   \n",
      "1                      4            80                        1   \n",
      "2                      2            80                        0   \n",
      "3                      3            80                        0   \n",
      "4                      4            80                        1   \n",
      "\n",
      "   Total_Years_of_Work  Trainings_Last_2_Years  \n",
      "0                    8                       0  \n",
      "1                   10                       3  \n",
      "2                    7                       3  \n",
      "3                    8                       3  \n",
      "4                    6                       3  \n",
      "\n",
      "[5 rows x 36 columns]\n"
     ]
    }
   ],
   "source": [
    "import pandas as pd\n",
    "# Load data file\n",
    "df_data = pd.read_excel(r\"RV01-Data_Input.xlsx\")\n",
    "print(f'Total rows in the file - {df_data.shape[0]}')\n",
    "print(df_data.head())"
   ]
  },
  {
   "cell_type": "markdown",
   "metadata": {},
   "source": [
    "#### Data Pre-processing"
   ]
  },
  {
   "cell_type": "code",
   "execution_count": 3,
   "metadata": {},
   "outputs": [
    {
     "name": "stdout",
     "output_type": "stream",
     "text": [
      "Missing Values:\n",
      " CitizenSN                              0\n",
      "Migration                              0\n",
      "Gender                                 1\n",
      "Age                                    0\n",
      "Salary                                 0\n",
      "Travel_Habits                          0\n",
      "Job_Type                               0\n",
      "Commute_Factor                         0\n",
      "Education                              0\n",
      "EducationArea                          1\n",
      "CitizenRegister                        0\n",
      "SurveySatisfaction                     0\n",
      "CompensationRate                       0\n",
      "CommunityEngagement                    0\n",
      "JobStatus                              0\n",
      "JobFunction                            0\n",
      "CitizenSatisfaction                    0\n",
      "Marriage_Data                          1\n",
      "MonthlyEarnings                        0\n",
      "BonusRate                              0\n",
      "TotNumEmployers                        0\n",
      "Adult                                  0\n",
      "Work_Overtime                          0\n",
      "SalaryHike_over_2Y                     0\n",
      "Transactions_Grouping                  0\n",
      "PerformanceEvaluation                  0\n",
      "Work_Life_Balance                      0\n",
      "Years_Without_Major_Change             0\n",
      "Years_Without_Minor_Change             0\n",
      "Years_Since_Last_Target_Achievement    0\n",
      "Years_in_Same_Group                    0\n",
      "RelationshipAssessment                 0\n",
      "TypicalHours                           0\n",
      "StockmarketParticipation               0\n",
      "Total_Years_of_Work                    0\n",
      "Trainings_Last_2_Years                 0\n",
      "dtype: int64\n"
     ]
    }
   ],
   "source": [
    "# Check for missing values\n",
    "print(\"Missing Values:\\n\", df_data.isnull().sum())\n"
   ]
  },
  {
   "cell_type": "code",
   "execution_count": 4,
   "metadata": {},
   "outputs": [
    {
     "name": "stdout",
     "output_type": "stream",
     "text": [
      "\n",
      "Data Types:\n",
      " CitizenSN                               int64\n",
      "Migration                              object\n",
      "Gender                                 object\n",
      "Age                                    object\n",
      "Salary                                  int64\n",
      "Travel_Habits                          object\n",
      "Job_Type                               object\n",
      "Commute_Factor                          int64\n",
      "Education                               int64\n",
      "EducationArea                          object\n",
      "CitizenRegister                         int64\n",
      "SurveySatisfaction                      int64\n",
      "CompensationRate                        int64\n",
      "CommunityEngagement                     int64\n",
      "JobStatus                               int64\n",
      "JobFunction                            object\n",
      "CitizenSatisfaction                     int64\n",
      "Marriage_Data                          object\n",
      "MonthlyEarnings                         int64\n",
      "BonusRate                               int64\n",
      "TotNumEmployers                         int64\n",
      "Adult                                  object\n",
      "Work_Overtime                          object\n",
      "SalaryHike_over_2Y                      int64\n",
      "Transactions_Grouping                   int64\n",
      "PerformanceEvaluation                   int64\n",
      "Work_Life_Balance                       int64\n",
      "Years_Without_Major_Change              int64\n",
      "Years_Without_Minor_Change              int64\n",
      "Years_Since_Last_Target_Achievement     int64\n",
      "Years_in_Same_Group                     int64\n",
      "RelationshipAssessment                  int64\n",
      "TypicalHours                            int64\n",
      "StockmarketParticipation                int64\n",
      "Total_Years_of_Work                     int64\n",
      "Trainings_Last_2_Years                  int64\n",
      "dtype: object\n"
     ]
    }
   ],
   "source": [
    "# Check data types\n",
    "print(\"\\nData Types:\\n\", df_data.dtypes)"
   ]
  },
  {
   "cell_type": "code",
   "execution_count": 5,
   "metadata": {},
   "outputs": [
    {
     "name": "stdout",
     "output_type": "stream",
     "text": [
      "\n",
      "Summary Statistics:\n",
      "            CitizenSN       Salary  Commute_Factor    Education  \\\n",
      "count    1473.000000  1473.000000     1473.000000  1473.000000   \n",
      "mean   101027.045485   803.238968        9.178547     2.914460   \n",
      "std       603.345091   403.453167        8.104700     1.023906   \n",
      "min    100001.000000   102.000000        1.000000     1.000000   \n",
      "25%    100492.000000   465.000000        2.000000     2.000000   \n",
      "50%    101024.000000   804.000000        7.000000     3.000000   \n",
      "75%    101558.000000  1158.000000       14.000000     4.000000   \n",
      "max    102098.000000  1499.000000       29.000000     5.000000   \n",
      "\n",
      "       CitizenRegister  SurveySatisfaction  CompensationRate  \\\n",
      "count           1473.0         1473.000000       1473.000000   \n",
      "mean               1.0            2.721656         65.871012   \n",
      "std                0.0            1.092178         20.339100   \n",
      "min                1.0            1.000000         30.000000   \n",
      "25%                1.0            2.000000         48.000000   \n",
      "50%                1.0            3.000000         66.000000   \n",
      "75%                1.0            4.000000         84.000000   \n",
      "max                1.0            4.000000        100.000000   \n",
      "\n",
      "       CommunityEngagement    JobStatus  CitizenSatisfaction  ...  \\\n",
      "count          1473.000000  1473.000000          1473.000000  ...   \n",
      "mean              2.729803     2.062458             2.727766  ...   \n",
      "std               0.711160     1.106507             1.102071  ...   \n",
      "min               1.000000     1.000000             1.000000  ...   \n",
      "25%               2.000000     1.000000             2.000000  ...   \n",
      "50%               3.000000     2.000000             3.000000  ...   \n",
      "75%               3.000000     3.000000             4.000000  ...   \n",
      "max               4.000000     5.000000             4.000000  ...   \n",
      "\n",
      "       Work_Life_Balance  Years_Without_Major_Change  \\\n",
      "count        1473.000000                 1473.000000   \n",
      "mean            2.761032                    7.002037   \n",
      "std             0.706089                    6.122115   \n",
      "min             1.000000                    0.000000   \n",
      "25%             2.000000                    3.000000   \n",
      "50%             3.000000                    5.000000   \n",
      "75%             3.000000                    9.000000   \n",
      "max             4.000000                   40.000000   \n",
      "\n",
      "       Years_Without_Minor_Change  Years_Since_Last_Target_Achievement  \\\n",
      "count                 1473.000000                          1473.000000   \n",
      "mean                     4.226069                             2.185336   \n",
      "std                      3.620567                             3.219802   \n",
      "min                      0.000000                             0.000000   \n",
      "25%                      2.000000                             0.000000   \n",
      "50%                      3.000000                             1.000000   \n",
      "75%                      7.000000                             3.000000   \n",
      "max                     18.000000                            15.000000   \n",
      "\n",
      "       Years_in_Same_Group  RelationshipAssessment  TypicalHours  \\\n",
      "count          1473.000000             1473.000000        1473.0   \n",
      "mean              4.118126                2.712831          80.0   \n",
      "std               3.566664                1.082697           0.0   \n",
      "min               0.000000                1.000000          80.0   \n",
      "25%               2.000000                2.000000          80.0   \n",
      "50%               3.000000                3.000000          80.0   \n",
      "75%               7.000000                4.000000          80.0   \n",
      "max              17.000000                5.000000          80.0   \n",
      "\n",
      "       StockmarketParticipation  Total_Years_of_Work  Trainings_Last_2_Years  \n",
      "count               1473.000000          1473.000000             1473.000000  \n",
      "mean                   0.795655            11.273591                2.799728  \n",
      "std                    0.853976             7.776984                1.288515  \n",
      "min                    0.000000             0.000000                0.000000  \n",
      "25%                    0.000000             6.000000                2.000000  \n",
      "50%                    1.000000            10.000000                3.000000  \n",
      "75%                    1.000000            15.000000                3.000000  \n",
      "max                    3.000000            40.000000                6.000000  \n",
      "\n",
      "[8 rows x 26 columns]\n"
     ]
    }
   ],
   "source": [
    "# Summary statistics for numerical columns\n",
    "print(\"\\nSummary Statistics:\\n\", df_data.describe())\n",
    "\n"
   ]
  },
  {
   "cell_type": "code",
   "execution_count": 6,
   "metadata": {},
   "outputs": [
    {
     "name": "stdout",
     "output_type": "stream",
     "text": [
      "\n",
      "Duplicates:\n",
      " 0\n"
     ]
    }
   ],
   "source": [
    "# Check for duplicates\n",
    "print(\"\\nDuplicates:\\n\", df_data.duplicated().sum())"
   ]
  },
  {
   "cell_type": "markdown",
   "metadata": {},
   "source": [
    "Remove null values\n"
   ]
  },
  {
   "cell_type": "code",
   "execution_count": 7,
   "metadata": {},
   "outputs": [
    {
     "name": "stdout",
     "output_type": "stream",
     "text": [
      "Total Rows of data before removing null values - 1473\n",
      "Missing Values:\n",
      " 0\n",
      "Total Rows of data after removing null values - 1472\n"
     ]
    }
   ],
   "source": [
    "import numpy as np\n",
    "print(f'Total Rows of data before removing null values - {df_data.shape[0]}')\n",
    "df_data.dropna(inplace=True)\n",
    "df_data.reset_index(drop=True, inplace=True)\n",
    "print(\"Missing Values:\\n\", np.sum(df_data.isnull().sum()))\n",
    "print(f'Total Rows of data after removing null values - {df_data.shape[0]}')"
   ]
  },
  {
   "cell_type": "markdown",
   "metadata": {},
   "source": [
    "#### Data analysis"
   ]
  },
  {
   "cell_type": "code",
   "execution_count": 9,
   "metadata": {},
   "outputs": [
    {
     "data": {
      "text/plain": [
       "<Axes: >"
      ]
     },
     "execution_count": 9,
     "metadata": {},
     "output_type": "execute_result"
    },
    {
     "data": {
      "image/png": "[encoded data removed]",
      "text/plain": [
       "<Figure size 640x480 with 1 Axes>"
      ]
     },
     "metadata": {},
     "output_type": "display_data"
    }
   ],
   "source": [
    "# Plot distribution of target variable\n",
    "df_data['Migration'].hist()"
   ]
  },
  {
   "cell_type": "markdown",
   "metadata": {},
   "source": [
    "Dataset is biased toward no migration"
   ]
  },
  {
   "cell_type": "code",
   "execution_count": 10,
   "metadata": {},
   "outputs": [
    {
     "name": "stdout",
     "output_type": "stream",
     "text": [
      "Numerical Columns: ['CitizenSN', 'Salary', 'Commute_Factor', 'Education', 'CitizenRegister', 'SurveySatisfaction', 'CompensationRate', 'CommunityEngagement', 'JobStatus', 'CitizenSatisfaction', 'MonthlyEarnings', 'BonusRate', 'TotNumEmployers', 'SalaryHike_over_2Y', 'Transactions_Grouping', 'PerformanceEvaluation', 'Work_Life_Balance', 'Years_Without_Major_Change', 'Years_Without_Minor_Change', 'Years_Since_Last_Target_Achievement', 'Years_in_Same_Group', 'RelationshipAssessment', 'TypicalHours', 'StockmarketParticipation', 'Total_Years_of_Work', 'Trainings_Last_2_Years']\n"
     ]
    }
   ],
   "source": [
    "# Finding list of numerical columns\n",
    "# Selecting numerical columns\n",
    "numerical_cols = df_data.select_dtypes(include=['int64', 'float64', 'uint64']).columns\n",
    "print(\"Numerical Columns:\", numerical_cols.tolist())"
   ]
  },
  {
   "cell_type": "markdown",
   "metadata": {},
   "source": [
    "Checking outliers in each column"
   ]
  },
  {
   "cell_type": "code",
   "execution_count": null,
   "metadata": {},
   "outputs": [],
   "source": [
    "import matplotlib.pyplot as plt"
   ]
  },
  {
   "cell_type": "code",
   "execution_count": null,
   "metadata": {},
   "outputs": [],
   "source": []
  }
 ],
 "metadata": {
  "kernelspec": {
   "display_name": "Python 3",
   "language": "python",
   "name": "python3"
  },
  "language_info": {
   "codemirror_mode": {
    "name": "ipython",
    "version": 3
   },
   "file_extension": ".py",
   "mimetype": "text/x-python",
   "name": "python",
   "nbconvert_exporter": "python",
   "pygments_lexer": "ipython3",
   "version": "3.11.2"
  }
 },
 "nbformat": 4,
 "nbformat_minor": 2
}
